{
 "cells": [
  {
   "cell_type": "markdown",
   "metadata": {
    "tags": []
   },
   "source": [
    "# Evolutionary Salesman Algorithm Demonstration\n",
    "This Jupyter Notebook will try to demonstrate the evolutionary algorithm developed to solve the salesman problem."
   ]
  },
  {
   "cell_type": "markdown",
   "metadata": {},
   "source": [
    "Firstly let's import some modules (including our own):"
   ]
  },
  {
   "cell_type": "code",
   "execution_count": 1,
   "metadata": {},
   "outputs": [],
   "source": [
    "import lib.evo_salesman as evo"
   ]
  },
  {
   "cell_type": "markdown",
   "metadata": {},
   "source": [
    "Now let's set our parameters with `set_parameters()`. These will be changed later on to compare different parameters when running the algorithm."
   ]
  },
  {
   "cell_type": "code",
   "execution_count": 3,
   "metadata": {},
   "outputs": [],
   "source": [
    "num_cities=10\n",
    "num_generations=10\n",
    "num_individuals=10\n",
    "mutation_prob=0 \n",
    "old_generation_ratio=0.5\n",
    "map_size=100\n",
    "rand_seed=-1\n",
    "evo.set_parameters(num_cities, num_generations, num_individuals, mutation_prob, \n",
    "               old_generation_ratio, map_size, rand_seed)"
   ]
  },
  {
   "cell_type": "markdown",
   "metadata": {},
   "source": [
    "Now we can generate and plot the cities so we can get a better look at them."
   ]
  },
  {
   "cell_type": "code",
   "execution_count": 6,
   "metadata": {},
   "outputs": [
    {
     "name": "stdout",
     "output_type": "stream",
     "text": [
      "(x,y) = (16,16)\n",
      "(x,y) = (97,84)\n",
      "(x,y) = (19,27)\n",
      "(x,y) = (25,0)\n",
      "(x,y) = (51,38)\n",
      "(x,y) = (4,9)\n",
      "(x,y) = (20,57)\n",
      "(x,y) = (13,69)\n",
      "(x,y) = (55,51)\n",
      "(x,y) = (26,2)\n"
     ]
    }
   ],
   "source": [
    "evo.create_cities()\n",
    "cities = evo.get_cities()\n",
    "for city in cities:\n",
    "    print(city)"
   ]
  },
  {
   "cell_type": "markdown",
   "metadata": {},
   "source": [
    "Finally, we can run the simulation and get the performance and history of every generation."
   ]
  },
  {
   "cell_type": "code",
   "execution_count": null,
   "metadata": {},
   "outputs": [],
   "source": [
    "evo.run_simulation()\n",
    "generations = evo.get_generations()"
   ]
  }
 ],
 "metadata": {
  "kernelspec": {
   "display_name": "Python 3 (ipykernel)",
   "language": "python",
   "name": "python3"
  },
  "language_info": {
   "codemirror_mode": {
    "name": "ipython",
    "version": 3
   },
   "file_extension": ".py",
   "mimetype": "text/x-python",
   "name": "python",
   "nbconvert_exporter": "python",
   "pygments_lexer": "ipython3",
   "version": "3.8.10"
  }
 },
 "nbformat": 4,
 "nbformat_minor": 4
}
